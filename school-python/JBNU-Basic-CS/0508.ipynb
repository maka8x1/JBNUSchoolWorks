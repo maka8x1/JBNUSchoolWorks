{
 "cells": [
  {
   "cell_type": "markdown",
   "metadata": {},
   "source": [
    "# 2024-05-08"
   ]
  },
  {
   "cell_type": "code",
   "execution_count": null,
   "metadata": {},
   "outputs": [],
   "source": [
    "list_a = []\n",
    "for i in range(0 ,101):\n",
    "    x = f\"{i:b}\"\n",
    "    list_a.append(x)\n",
    "\n",
    "print(list_a)"
   ]
  },
  {
   "cell_type": "code",
   "execution_count": 11,
   "metadata": {},
   "outputs": [
    {
     "name": "stdout",
     "output_type": "stream",
     "text": [
      "총 4개.\n",
      "{1: 3, 2: 2, 3: 2, 4: 1}\n",
      "1의 갯수: 3\n",
      "2의 갯수: 2\n",
      "3의 갯수: 2\n",
      "4의 갯수: 1\n"
     ]
    }
   ],
   "source": [
    "list_q = [1, 2, 3, 4, 1, 2, 3, 1, 4, 1, 2, 3]\n",
    "xmem = dict()\n",
    "\n",
    "for z in list_q:\n",
    "    if not z in xmem:\n",
    "        xmem[z] = 0\n",
    "    else:\n",
    "        xmem[z] += 1\n",
    "\n",
    "print(f\"총 {len(xmem)}개.\")\n",
    "print(xmem)\n",
    "\n",
    "print(\"\\n\".join([\n",
    "    f\"{i}의 갯수: {xmem[i]}\" for i in xmem \n",
    "]))"
   ]
  },
  {
   "cell_type": "code",
   "execution_count": 2,
   "metadata": {},
   "outputs": [
    {
     "name": "stdout",
     "output_type": "stream",
     "text": [
      "c: 9\n",
      "t: 9\n",
      "a: 9\n",
      "g: 6\n"
     ]
    }
   ],
   "source": [
    "cd = \"ctacaatgtcagtatacccattgcattagccgg\"\n",
    "cdd = dict()\n",
    "\n",
    "for x in cd:\n",
    "    if not x in cdd:\n",
    "        cdd[x] = 1\n",
    "    else:\n",
    "        cdd[x] += 1\n",
    "\n",
    "for q in cdd:\n",
    "    print(f\"{q}: {cdd[q]}\")"
   ]
  },
  {
   "cell_type": "code",
   "execution_count": 3,
   "metadata": {},
   "outputs": [
    {
     "name": "stdout",
     "output_type": "stream",
     "text": [
      "총 5개.\n",
      "{1: 3, 2: 2, 3: 2, 4: 1, 5: 1}\n"
     ]
    }
   ],
   "source": [
    "A = [1, 1, 1, 2, 2, 3, 4, 3, 5]\n",
    "qmem = dict()\n",
    "\n",
    "for z in A:\n",
    "    if not z in qmem:\n",
    "        qmem[z] = 1\n",
    "    else:\n",
    "        qmem[z] += 1\n",
    "\n",
    "print(f\"총 {len(qmem)}개.\")\n",
    "print(qmem)"
   ]
  },
  {
   "cell_type": "code",
   "execution_count": 3,
   "metadata": {},
   "outputs": [
    {
     "name": "stdout",
     "output_type": "stream",
     "text": [
      "['cta', 'caa', 'tgt', 'cag', 'tat', 'acc', 'cat', 'tgc', 'att', 'agc', 'cgg']\n",
      "{'cta': 1, 'caa': 1, 'tgt': 1, 'cag': 1, 'tat': 1, 'acc': 1, 'cat': 1, 'tgc': 1, 'att': 1, 'agc': 1, 'cgg': 1}\n"
     ]
    }
   ],
   "source": [
    "splitc = []\n",
    "acdict = dict()\n",
    "\n",
    "for x in range(0, len(cd), 3):\n",
    "    splitc.append(cd[x:(x+3)])\n",
    "\n",
    "print(splitc)\n",
    "\n",
    "for x in splitc:\n",
    "    if not x in acdict:\n",
    "        acdict[x] = 1\n",
    "    else:\n",
    "        acdict[x] += 1\n",
    "\n",
    "print(acdict)\n",
    "\n",
    "# ['cta', 'caa', 'tgt', 'cag', 'tat', 'acc', 'cat', 'tgc', 'att', 'agc']\n",
    "# {'cta': 1, 'caa': 1, 'tgt': 1, 'cag': 1, 'tat': 1, 'acc': 1, 'cat': 1, 'tgc': 1, 'att': 1, 'agc': 1}\n"
   ]
  },
  {
   "cell_type": "code",
   "execution_count": 10,
   "metadata": {},
   "outputs": [
    {
     "name": "stdout",
     "output_type": "stream",
     "text": [
      "[1, 2, [3, 4], 5, [6, 7], [8, 9]]\n",
      "[1, 2, 3, 4, 5, 6, 7, 8, 9]\n"
     ]
    }
   ],
   "source": [
    "#list flattering\n",
    "\n",
    "list_np = [1, 2, [3, 4], 5, [6, 7], [8, 9]]\n",
    "list_p = list()\n",
    "\n",
    "for i in list_np:\n",
    "    if type(i) == list:\n",
    "        list_p.extend(i)\n",
    "    else:\n",
    "        list_p.append(i)\n",
    "\n",
    "print(list_np)\n",
    "print(list_p)"
   ]
  },
  {
   "cell_type": "code",
   "execution_count": null,
   "metadata": {},
   "outputs": [],
   "source": []
  }
 ],
 "metadata": {
  "kernelspec": {
   "display_name": "Python 3",
   "language": "python",
   "name": "python3"
  },
  "language_info": {
   "codemirror_mode": {
    "name": "ipython",
    "version": 3
   },
   "file_extension": ".py",
   "mimetype": "text/x-python",
   "name": "python",
   "nbconvert_exporter": "python",
   "pygments_lexer": "ipython3",
   "version": "3.10.12"
  }
 },
 "nbformat": 4,
 "nbformat_minor": 2
}
