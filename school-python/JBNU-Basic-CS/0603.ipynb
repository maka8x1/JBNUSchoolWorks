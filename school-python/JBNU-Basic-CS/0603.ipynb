{
 "cells": [
  {
   "cell_type": "markdown",
   "metadata": {},
   "source": [
    "# 2024-06-03"
   ]
  },
  {
   "cell_type": "code",
   "execution_count": 9,
   "metadata": {},
   "outputs": [
    {
     "name": "stdout",
     "output_type": "stream",
     "text": [
      "fib(10)을 구합니다.\n",
      "fib(9)을 구합니다.\n",
      "fib(8)을 구합니다.\n",
      "fib(7)을 구합니다.\n",
      "fib(6)을 구합니다.\n",
      "fib(5)을 구합니다.\n",
      "fib(4)을 구합니다.\n",
      "fib(3)을 구합니다.\n",
      "fib(2)을 구합니다.\n",
      "fib(1)을 구합니다.\n",
      "fib(2)을 구합니다.\n",
      "fib(3)을 구합니다.\n",
      "fib(4)을 구합니다.\n",
      "fib(5)을 구합니다.\n",
      "fib(6)을 구합니다.\n",
      "fib(7)을 구합니다.\n",
      "fib(8)을 구합니다.\n",
      "55\n",
      "17회 반복됨.\n"
     ]
    }
   ],
   "source": [
    "counter = 0\n",
    "\n",
    "memo = {\n",
    "    1: 1,\n",
    "    2: 1,\n",
    "}\n",
    "\n",
    "def countfib(n):\n",
    "    global counter\n",
    "    global memo\n",
    "    \n",
    "    print(f\"fib({n})을 구합니다.\")\n",
    "    counter += 1\n",
    "\n",
    "    if n in memo:\n",
    "        return memo[n]\n",
    "    else:\n",
    "        output = countfib(n - 1) + countfib(n - 2)\n",
    "        memo[n] = output\n",
    "        return output\n",
    "\n",
    "print(countfib(10))\n",
    "print(f\"{counter}회 반복됨.\")"
   ]
  },
  {
   "cell_type": "code",
   "execution_count": 11,
   "metadata": {},
   "outputs": [
    {
     "data": {
      "text/plain": [
       "[1, 2, 3, 4, 5, 6, 7, 8, 9]"
      ]
     },
     "execution_count": 11,
     "metadata": {},
     "output_type": "execute_result"
    }
   ],
   "source": [
    "def flatrecc(data):\n",
    "    il = list()\n",
    "    for x in data:\n",
    "        if type(x) is list:\n",
    "            il.extend(flatrecc(x))\n",
    "        else:\n",
    "            il.append(x)\n",
    "\n",
    "    return il\n",
    "\n",
    "flatrecc([[1, 2, 3], [4, [5, 6]], 7, [8, 9]])"
   ]
  },
  {
   "cell_type": "code",
   "execution_count": 13,
   "metadata": {},
   "outputs": [
    {
     "name": "stdout",
     "output_type": "stream",
     "text": [
      "MAPED: [1, 4, 9, 16, 25]\n",
      "\n",
      "FILTERED: [1, 2]\n"
     ]
    }
   ],
   "source": [
    "power = lambda x : x ** 2\n",
    "u3 = lambda x : x < 3\n",
    "\n",
    "list_k = [1, 2, 3, 4, 5]\n",
    "\n",
    "maped = map(power, list_k)\n",
    "print(\"MAPED:\", list(maped))\n",
    "\n",
    "print()\n",
    "\n",
    "filtered = filter(u3, list_k)\n",
    "print(\"FILTERED:\", list(filtered))"
   ]
  },
  {
   "cell_type": "code",
   "execution_count": 14,
   "metadata": {},
   "outputs": [
    {
     "name": "stdout",
     "output_type": "stream",
     "text": [
      "1::2::3::4::5::6\n"
     ]
    }
   ],
   "source": [
    "numbers = [1, 2, 3, 4, 5, 6]\n",
    "print(\"::\".join(map(lambda x : str(x), numbers)))"
   ]
  },
  {
   "cell_type": "code",
   "execution_count": 16,
   "metadata": {},
   "outputs": [
    {
     "name": "stdout",
     "output_type": "stream",
     "text": [
      "홀수만 추출\n",
      "[1, 3, 5, 7, 9]\n"
     ]
    }
   ],
   "source": [
    "onm = list(range(1, 10 + 1))\n",
    "\n",
    "print(\"홀수만 추출\")\n",
    "print(list(filter(lambda x : x % 2 != 0, onm)))"
   ]
  },
  {
   "cell_type": "code",
   "execution_count": 23,
   "metadata": {},
   "outputs": [
    {
     "name": "stdout",
     "output_type": "stream",
     "text": [
      "Hello Python Programming!\n",
      "HELLORLD! FROM PYTHON!\n"
     ]
    }
   ],
   "source": [
    "file = open(\"basic.txt\", \"w\")\n",
    "file.write(\"Hello Python Programming!\\n\")\n",
    "file.close()\n",
    "\n",
    "with open(\"basic.txt\", \"a\") as files:\n",
    "    files.write(\"HELLORLD! FROM PYTHON!\")\n",
    "\n",
    "with open(\"basic.txt\", \"r\") as files:\n",
    "    c = files.read()\n",
    "    print(c)"
   ]
  },
  {
   "cell_type": "code",
   "execution_count": 25,
   "metadata": {},
   "outputs": [],
   "source": [
    "import random\n",
    "\n",
    "hgs = list(\"가나다라마바사아자차카타파하\")\n",
    "\n",
    "with open(\"csvsample.csv\", \"w\") as cfs:\n",
    "    for i in range(20):\n",
    "        name = random.choice(hgs) + random.choice(hgs)\n",
    "        weight = random.randrange(40, 90)\n",
    "        height = random.randrange(140, 180)\n",
    "\n",
    "        x = \"{}, {}, {}\\n\".format(name, weight, height)\n",
    "        cfs.write(x)"
   ]
  },
  {
   "cell_type": "code",
   "execution_count": 6,
   "metadata": {},
   "outputs": [
    {
     "name": "stdout",
     "output_type": "stream",
     "text": [
      "이름: 마나\n",
      "키:  169\n",
      "몸무게:  80\n",
      "BMI: 28.01022373166206\n",
      "상태: 비만\n",
      " \n",
      "이름: 카다\n",
      "키:  178\n",
      "몸무게:  42\n",
      "BMI: 13.255902032571644\n",
      "상태: 정상\n",
      " \n",
      "이름: 라차\n",
      "키:  144\n",
      "몸무게:  82\n",
      "BMI: 39.54475308641975\n",
      "상태: 비만\n",
      " \n",
      "이름: 마타\n",
      "키:  142\n",
      "몸무게:  46\n",
      "BMI: 22.81293394167824\n",
      "상태: 과체중\n",
      " \n",
      "이름: 타하\n",
      "키:  179\n",
      "몸무게:  60\n",
      "BMI: 18.726007303142847\n",
      "상태: 과체중\n",
      " \n",
      "이름: 차바\n",
      "키:  156\n",
      "몸무게:  42\n",
      "BMI: 17.258382642998026\n",
      "상태: 정상\n",
      " \n",
      "이름: 라라\n",
      "키:  177\n",
      "몸무게:  66\n",
      "BMI: 21.06674327300584\n",
      "상태: 과체중\n",
      " \n",
      "이름: 마라\n",
      "키:  157\n",
      "몸무게:  66\n",
      "BMI: 26.775934114974238\n",
      "상태: 비만\n",
      " \n",
      "이름: 가차\n",
      "키:  153\n",
      "몸무게:  63\n",
      "BMI: 26.91272587466359\n",
      "상태: 비만\n",
      " \n",
      "이름: 하마\n",
      "키:  155\n",
      "몸무게:  89\n",
      "BMI: 37.04474505723204\n",
      "상태: 비만\n",
      " \n",
      "이름: 자자\n",
      "키:  168\n",
      "몸무게:  71\n",
      "BMI: 25.15589569160998\n",
      "상태: 비만\n",
      " \n",
      "이름: 라카\n",
      "키:  175\n",
      "몸무게:  41\n",
      "BMI: 13.387755102040817\n",
      "상태: 정상\n",
      " \n",
      "이름: 바아\n",
      "키:  156\n",
      "몸무게:  76\n",
      "BMI: 31.22945430637738\n",
      "상태: 비만\n",
      " \n",
      "이름: 하자\n",
      "키:  145\n",
      "몸무게:  51\n",
      "BMI: 24.25683709869203\n",
      "상태: 과체중\n",
      " \n",
      "이름: 바바\n",
      "키:  156\n",
      "몸무게:  79\n",
      "BMI: 32.462195923734384\n",
      "상태: 비만\n",
      " \n",
      "이름: 아마\n",
      "키:  166\n",
      "몸무게:  66\n",
      "BMI: 23.95122659311947\n",
      "상태: 과체중\n",
      " \n",
      "이름: 다가\n",
      "키:  148\n",
      "몸무게:  70\n",
      "BMI: 31.95763330898466\n",
      "상태: 비만\n",
      " \n",
      "이름: 라카\n",
      "키:  179\n",
      "몸무게:  60\n",
      "BMI: 18.726007303142847\n",
      "상태: 과체중\n",
      " \n",
      "이름: 가파\n",
      "키:  163\n",
      "몸무게:  54\n",
      "BMI: 20.32443825510934\n",
      "상태: 과체중\n",
      " \n",
      "이름: 라하\n",
      "키:  175\n",
      "몸무게:  43\n",
      "BMI: 14.040816326530612\n",
      "상태: 정상\n",
      " \n"
     ]
    }
   ],
   "source": [
    "with open(\"csvsample.csv\", \"r\") as cfs:\n",
    "    for line in cfs:\n",
    "        (name, weight, height) = line.strip().split(\",\")\n",
    "\n",
    "        if (not name) or (not weight) or (not height):\n",
    "            continue\n",
    "\n",
    "        bmi = lambda wei, hei : int(wei) / ((int(hei) / 100) ** 2)\n",
    "        ibmi = bmi(wei=weight, hei=height)\n",
    "\n",
    "        status = \"\"\n",
    "        if ibmi > 25:\n",
    "            status = \"비만\"\n",
    "        elif ibmi <= 25 and ibmi >= 18:\n",
    "            status = \"과체중\"\n",
    "        elif ibmi <= 18:\n",
    "            status = \"정상\"\n",
    "        else:\n",
    "            status = \"저체중\"\n",
    "\n",
    "        print(\"\\n\".join([\"이름: {}\", \"키: {}\", \"몸무게: {}\", \"BMI: {}\", \"상태: {}\", \" \"]).format(name, height, weight, ibmi, status))\n",
    "        "
   ]
  }
 ],
 "metadata": {
  "kernelspec": {
   "display_name": "Python 3",
   "language": "python",
   "name": "python3"
  },
  "language_info": {
   "codemirror_mode": {
    "name": "ipython",
    "version": 3
   },
   "file_extension": ".py",
   "mimetype": "text/x-python",
   "name": "python",
   "nbconvert_exporter": "python",
   "pygments_lexer": "ipython3",
   "version": "3.10.12"
  }
 },
 "nbformat": 4,
 "nbformat_minor": 2
}
