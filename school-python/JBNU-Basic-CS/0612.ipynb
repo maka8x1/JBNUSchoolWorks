{
 "cells": [
  {
   "cell_type": "markdown",
   "metadata": {},
   "source": [
    "# 2024-06-12"
   ]
  },
  {
   "cell_type": "code",
   "execution_count": 2,
   "metadata": {},
   "outputs": [
    {
     "name": "stdout",
     "output_type": "stream",
     "text": [
      "NUM: 62 TYPE: <class 'int'>\n"
     ]
    }
   ],
   "source": [
    "numinpt = input()\n",
    "\n",
    "numx = 0\n",
    "try:\n",
    "    numx = int(numinpt)\n",
    "except:\n",
    "    print(\"ERR: IS NOT A NUMBER!\")\n",
    "else:\n",
    "    print(\"NUM:\", numx, \"TYPE:\", type(numx))"
   ]
  },
  {
   "cell_type": "code",
   "execution_count": 6,
   "metadata": {},
   "outputs": [
    {
     "name": "stdout",
     "output_type": "stream",
     "text": [
      "READING..\n",
      "마나, 80, 169\n",
      "카다, 42, 178\n",
      "라차, 82, 144\n",
      "마타, 46, 142\n",
      "타하, 60, 179\n",
      "차바, 42, 156\n",
      "라라, 66, 177\n",
      "마라, 66, 157\n",
      "가차, 63, 153\n",
      "하마, 89, 155\n",
      "자자, 71, 168\n",
      "라카, 41, 175\n",
      "바아, 76, 156\n",
      "하자, 51, 145\n",
      "바바, 79, 156\n",
      "아마, 66, 166\n",
      "다가, 70, 148\n",
      "라카, 60, 179\n",
      "가파, 54, 163\n",
      "라하, 43, 175\n",
      "\n",
      "FILESTREAM CLOSED!\n"
     ]
    }
   ],
   "source": [
    "try:\n",
    "    file = open(\"csvsample.csv\", \"r\")\n",
    "    print(\"READING..\")\n",
    "    print(file.read())\n",
    "except:\n",
    "    print(\"ERR: FS ERROR!\")\n",
    "finally:\n",
    "    print(\"FILESTREAM CLOSED!\")\n",
    "    file.close()"
   ]
  },
  {
   "cell_type": "code",
   "execution_count": 7,
   "metadata": {},
   "outputs": [
    {
     "name": "stdout",
     "output_type": "stream",
     "text": [
      "ERROR!\n",
      "invalid literal for int() with base 10: 'A'\n"
     ]
    }
   ],
   "source": [
    "try:\n",
    "    int(\"A\")\n",
    "except Exception as execptr:\n",
    "    print(\"ERROR!\")\n",
    "    print(execptr)"
   ]
  },
  {
   "cell_type": "code",
   "execution_count": 10,
   "metadata": {},
   "outputs": [
    {
     "name": "stdout",
     "output_type": "stream",
     "text": [
      "1\n"
     ]
    }
   ],
   "source": [
    "ps = [1, 2, 3]\n",
    "\n",
    "try:\n",
    "    idx = int(input(\"> \"))\n",
    "    pt = ps[idx]\n",
    "    print(pt)\n",
    "except ValueError as VLER:\n",
    "    print(\"VALUE ERROR:\", VLER)\n",
    "except IndexError as IDER:\n",
    "    print(\"INDEX ERROR:\", IDER)"
   ]
  },
  {
   "cell_type": "code",
   "execution_count": 13,
   "metadata": {},
   "outputs": [
    {
     "name": "stdout",
     "output_type": "stream",
     "text": [
      "total 192\n",
      "drwxrwxr-x 2 maka maka  4096 Jun 12 10:56 .\n",
      "drwxrwxr-x 4 maka maka  4096 Mar 25 11:03 ..\n",
      "-rw-rw-r-- 1 maka maka  1916 Mar 13 11:48 0313.ipynb\n",
      "-rw-rw-r-- 1 maka maka  9910 Mar 20 11:12 0318.ipynb\n",
      "-rw-rw-r-- 1 maka maka  2595 Mar 20 11:44 0320.ipynb\n",
      "-rw-rw-r-- 1 maka maka  4570 Mar 25 12:31 0325.ipynb\n",
      "-rw-rw-r-- 1 maka maka  5202 Mar 28 11:39 0327.ipynb\n",
      "-rw-rw-r-- 1 maka maka  7337 Apr  1 12:28 0401.ipynb\n",
      "-rw-rw-r-- 1 maka maka  3834 Apr  3 11:48 0403.ipynb\n",
      "-rw-rw-r-- 1 maka maka  9714 Apr  8 12:24 0408.ipynb\n",
      "-rw-rw-r-- 1 maka maka  5885 Apr 15 12:27 0415.ipynb\n",
      "-rw-rw-r-- 1 maka maka  5577 Apr 17 11:42 0417.ipynb\n",
      "-rw-rw-r-- 1 maka maka 10710 May  8 11:20 0429.ipynb\n",
      "-rw-rw-r-- 1 maka maka  4139 May 13 11:06 0508.ipynb\n",
      "-rw-rw-r-- 1 maka maka  3749 May 13 17:01 0513.ipynb\n",
      "-rw-rw-r-- 1 maka maka  5813 May 20 12:21 0520.ipynb\n",
      "-rw-rw-r-- 1 maka maka  7977 Jun  3 11:05 0527.ipynb\n",
      "-rw-rw-r-- 1 maka maka   523 May 30 14:36 0529.ipynb\n",
      "-rw-rw-r-- 1 maka maka  9195 Jun  3 23:46 0603.ipynb\n",
      "-rw-rw-r-- 1 maka maka  6345 Jun  5 11:45 0605.ipynb\n",
      "-rw-rw-r-- 1 maka maka  4956 Jun 12 11:19 0612.ipynb\n",
      "-rw-rw-r-- 1 maka maka 17432 Mar 13 11:38 JBNU_BasicPythonCS202401_202412999.ipynb\n",
      "-rw-rw-r-- 1 maka maka    48 Jun  3 12:14 basic.txt\n",
      "-rw-rw-r-- 1 maka maka   320 Jun  3 12:25 csvsample.csv\n",
      "-rw-rw-r-- 1 maka maka    25 Jun  5 11:16 test0605.txt\n",
      "-rw-rw-r-- 1 maka maka   448 Mar 18 11:35 welcome.ipynb\n",
      "    PID TTY          TIME CMD\n",
      "1733302 pts/1    00:00:00 su\n",
      "1733303 pts/1    00:00:00 zsh\n"
     ]
    }
   ],
   "source": [
    "!ls -al\n",
    "!ps -a"
   ]
  }
 ],
 "metadata": {
  "kernelspec": {
   "display_name": "Python 3",
   "language": "python",
   "name": "python3"
  },
  "language_info": {
   "codemirror_mode": {
    "name": "ipython",
    "version": 3
   },
   "file_extension": ".py",
   "mimetype": "text/x-python",
   "name": "python",
   "nbconvert_exporter": "python",
   "pygments_lexer": "ipython3",
   "version": "3.10.12"
  }
 },
 "nbformat": 4,
 "nbformat_minor": 2
}
